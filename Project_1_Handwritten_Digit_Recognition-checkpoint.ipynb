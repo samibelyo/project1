{
 "cells": [
  {
   "cell_type": "markdown",
   "metadata": {
    "id": "NAsgDbOhyWgZ"
   },
   "source": [
    "# Handwritten Digit Recognition Project 🚀\n",
    "\n",
    "Welcome to our exciting journey into the world of Deep Learning! In this project, you'll dive into the fascinating realm of handwritten digit recognition using PyTorch, one of the most popular machine learning libraries. 🧠💻\n",
    "\n",
    "## Project Overview 📝\n",
    "\n",
    "Your mission, should you choose to accept it, involves building and optimizing a PyTorch model to recognize handwritten digits from the MNIST dataset. This dataset is like the 'Hello World' of machine learning, perfect for beginners and yet intriguing for experienced coders. 🌟\n",
    "\n",
    "## Learning Objectives 🎯\n",
    "\n",
    "- **Understanding PyTorch**: Get hands-on experience with PyTorch, understanding its basic operations and how to build models with it.\n",
    "- **Model Optimization**: Explore various training optimization techniques such as adding dropout layers, implementing regularizers, and utilizing early stopping to enhance model performance.\n",
    "- **Experimentation**: Test different hyperparameters and observe how they impact your model's learning process and accuracy.\n",
    "\n",
    "## Project Structure 🗂️\n",
    "\n",
    "- **Data Preprocessing**: Learn how to prepare your data for optimal model training.\n",
    "- **Model Building**: Design a neural network architecture suitable for digit recognition.\n",
    "- **Training and Testing**: Implement the training loop, and test your model's performance.\n",
    "- **Optimization Techniques**: Apply different optimization strategies to improve your model.\n",
    "\n",
    "## TODOs 📌\n",
    "\n",
    "Throughout this notebook, you'll find `TODO` sections. These are areas where you'll need to apply what you've learned and write your own code. Don't worry, though; guidance and hints are provided to help you on your journey!\n",
    "\n",
    "So, are you ready to embark on this adventure in machine learning? Let's get started! 🚀👩‍💻👨‍💻\n",
    "\n",
    "---\n",
    "\n",
    "Remember, the goal of this project is not just to build a model but to experiment and learn. Every challenge you encounter is an opportunity to grow. Let's do this! 💪\n"
   ]
  },
  {
   "cell_type": "markdown",
   "metadata": {
    "id": "ivgWP56HytSS"
   },
   "source": [
    "## Loading the MNIST Dataset 📚\n",
    "\n",
    "Before diving into the model building, the first crucial step is to load our dataset. In this section, you'll learn how to load and visualize the MNIST dataset, which is a collection of 70,000 grayscale images of handwritten digits (0 through 9). This dataset is widely used for training and testing in the field of machine learning. 🤖📈\n",
    "\n"
   ]
  },
  {
   "cell_type": "code",
   "execution_count": 26,
   "metadata": {
    "id": "r2xTBOMDx53Z"
   },
   "outputs": [],
   "source": [
    "# Import necessary libraries\n",
    "import torch\n",
    "from torchvision import datasets, transforms\n",
    "from torch.utils.data import DataLoader\n",
    "\n",
    "# TODO: Define a transform to normalize the data\n",
    "transform = transforms.Compose([\n",
    "    transforms.ToTensor(),  # Convert images to PyTorch tensors\n",
    "    transforms.Normalize((0.5,), (0.5,))  # Normalize pixel values to range [-1, 1]\n",
    "])\n",
    "\n",
    "# TODO: Load the MNIST dataset\n",
    "train_set = datasets.MNIST(root='./data', train=True, download=True, transform=transform)\n",
    "test_set = datasets.MNIST(root='./data', train=False, download=True, transform=transform)\n",
    "\n",
    "# TODO: Create data loaders\n",
    "train_loader = DataLoader(train_set, batch_size=64, shuffle=True)\n",
    "test_loader = DataLoader(test_set, batch_size=64, shuffle=False)\n"
   ]
  },
  {
   "cell_type": "code",
   "execution_count": 18,
   "metadata": {
    "id": "w3OXyKQjy_zb"
   },
   "outputs": [
    {
     "name": "stdout",
     "output_type": "stream",
     "text": [
      "Number of images in the training set: 60000\n",
      "Number of images in the test set: 10000\n"
     ]
    }
   ],
   "source": [
    "# TODO: Figure out how many images are in the train_set and test_set.\n",
    "num_train_images = len(train_set)\n",
    "num_test_images = len(test_set)\n",
    "\n",
    "print(\"Number of images in the training set:\" ,num_train_images)\n",
    "print(\"Number of images in the test set:\",num_test_images)\n"
   ]
  },
  {
   "cell_type": "markdown",
   "metadata": {
    "id": "LKFfUT-ozFA7"
   },
   "source": [
    "## Building the Neural Network Model 🛠️\n",
    "\n",
    "Now that our dataset is ready, it's time to build the neural network model that will learn to recognize handwritten digits. In this section, you will define the architecture of your neural network.\n",
    "\n",
    "### Key Concepts:\n",
    "- **Layers**: Neural networks are composed of layers. Each layer has a specific role, like convolutional layers for feature extraction or fully connected (dense) layers for decision making.\n",
    "- **Activation Functions**: These functions introduce non-linear properties to the network, allowing it to learn more complex patterns."
   ]
  },
  {
   "cell_type": "code",
   "execution_count": 19,
   "metadata": {
    "id": "SDoUc4dzzZMu"
   },
   "outputs": [
    {
     "name": "stdout",
     "output_type": "stream",
     "text": [
      "Net(\n",
      "  (fc1): Linear(in_features=784, out_features=128, bias=True)\n",
      "  (fc2): Linear(in_features=128, out_features=64, bias=True)\n",
      "  (fc3): Linear(in_features=64, out_features=10, bias=True)\n",
      ")\n"
     ]
    }
   ],
   "source": [
    "# Import necessary PyTorch libraries\n",
    "import torch.nn as nn\n",
    "import torch.nn.functional as F\n",
    "\n",
    "# TODO: Define the neural network class\n",
    "class Net(nn.Module):\n",
    "    def __init__(self):\n",
    "        super(Net, self).__init__()\n",
    "        # TODO: Define layers of the neural network\n",
    "        self.fc1 = nn.Linear(28 * 28, 128) # First fully connected layer\n",
    "        self.fc2 = nn.Linear(128, 64)      \n",
    "        self.fc3 = nn.Linear(64, 10)       \n",
    "\n",
    "\n",
    "    def forward(self, x):\n",
    "        # Flatten the input tensor\n",
    "        x = x.view(-1, 28 * 28) \n",
    "        \n",
    "        x = F.relu(self.fc1(x))# Applying ReLU activation to the first layer\n",
    "        x = F.relu(self.fc2(x)) \n",
    "        x = self.fc3(x)\n",
    "        return x\n",
    "\n",
    "# Create an instance of the network\n",
    "model = Net()\n",
    "print(model)"
   ]
  },
  {
   "cell_type": "markdown",
   "metadata": {
    "id": "J9VnJDBDz2QU"
   },
   "source": [
    "## Training the Neural Network Model 🏋️‍♀️🏋️‍♂️\n",
    "\n",
    "With our neural network model defined, the next exciting step is to train it. This process involves feeding the training data to the model and adjusting the model parameters (weights and biases) based on the computed loss and the chosen optimization algorithm.\n",
    "\n",
    "### Key Concepts:\n",
    "- **Loss Function**: Measures how well the model performs. A common choice for classification tasks is Cross-Entropy Loss.\n",
    "- **Optimizer**: Helps in updating the model parameters based on the computed gradients. We'll be using Stochastic Gradient Descent (SGD) in this example.\n",
    "- **Epochs**: One epoch means the model has seen the entire dataset once. Training for multiple epochs means going through the dataset multiple times.\n",
    "\n"
   ]
  },
  {
   "cell_type": "code",
   "execution_count": 21,
   "metadata": {
    "id": "NqXh40htz2B6"
   },
   "outputs": [
    {
     "name": "stdout",
     "output_type": "stream",
     "text": [
      "Epoch 1, Loss: 2.626818267775497\n",
      " Loss: 2.7395037344306896\n",
      "Epoch 2, Loss: 2.660331892052185\n",
      " Loss: 2.6940172143802523\n",
      "Epoch 3, Loss: 2.7388742025981325\n",
      " Loss: 2.678024255546035\n",
      "Epoch 4, Loss: 2.7235313331140385\n",
      " Loss: 2.782330251803064\n",
      "Epoch 5, Loss: 2.795147740002126\n",
      " Loss: 2.7866405210677225\n",
      "Training is finished!\n"
     ]
    }
   ],
   "source": [
    "# TODO: Complete this code\n",
    "# Import optimizer\n",
    "from torch.optim import SGD\n",
    "import torch.optim as optim\n",
    "\n",
    "# TODO: Define the loss function and optimizer\n",
    "criterion =nn.CrossEntropyLoss()\n",
    "optimizer = optim.SGD(model.parameters(), lr=0.01)\n",
    "\n",
    "# TODO: Set the number of epochs\n",
    "num_epochs =5\n",
    "\n",
    "# Training loop\n",
    "for epoch in range(num_epochs):\n",
    "    running_loss = 0.0\n",
    "    for images, labels in train_loader:\n",
    "        # TODO: Complete Training pass\n",
    "        # Forward pass\n",
    "        outputs = model(images)\n",
    "        loss = criterion(outputs, labels)\n",
    "\n",
    "        # Backward pass and optimize\n",
    "        loss.backward()\n",
    "        optimizer.step()\n",
    "\n",
    "        # Accumulate the loss for each batch\n",
    "        running_loss += loss.item()\n",
    "    else:\n",
    "        print(f\"Epoch {epoch+1}, Loss: {running_loss/len(train_loader)}\")\n",
    "\n",
    "    # TODO: evaluate on the test_loader\n",
    "    test_loss = 0.0\n",
    "    total_correct = 0\n",
    "    total_samples = 0\n",
    "    for images, labels in test_loader:\n",
    "        # TODO: Complete evaluation pass\n",
    "\n",
    "        outputs = model(images)  # Forward pass\n",
    "        loss = criterion(outputs, labels)  # Compute loss\n",
    "\n",
    "        test_loss += loss.item()\n",
    "        \n",
    "        \n",
    "    else:\n",
    "        print(f\" Loss: {test_loss/len(test_loader)}\")\n",
    "\n",
    "print(\"Training is finished!\")"
   ]
  },
  {
   "cell_type": "code",
   "execution_count": 23,
   "metadata": {
    "id": "ckEA5Ft_0gn8"
   },
   "outputs": [],
   "source": [
    "# TODO: plot the model complexity graph\n",
    "\n"
   ]
  },
  {
   "cell_type": "markdown",
   "metadata": {
    "id": "Rh0gKqC50ST3"
   },
   "source": [
    "### TODO1: Comment the model complexity graph\n",
    "### TODO2: Change the model and add more layer (use a complex model)"
   ]
  },
  {
   "cell_type": "markdown",
   "metadata": {
    "id": "AzCT0HIA0nQf"
   },
   "source": [
    "## Implementing Early Stopping 🛑\n",
    "\n",
    "One of the key techniques in training neural networks effectively is 'Early Stopping'. This technique halts the training process if the model performance stops improving on a held-out validation set. Early stopping is a form of regularization used to avoid overfitting.\n",
    "\n",
    "### Key Concepts:\n",
    "- **Validation Loss**: Monitor the loss on a validation set to detect when it begins to increase, indicating overfitting."
   ]
  },
  {
   "cell_type": "code",
   "execution_count": 28,
   "metadata": {
    "id": "gDm6xmNB0mio"
   },
   "outputs": [
    {
     "ename": "NameError",
     "evalue": "name 'validation_loader' is not defined",
     "output_type": "error",
     "traceback": [
      "\u001b[1;31m---------------------------------------------------------------------------\u001b[0m",
      "\u001b[1;31mNameError\u001b[0m                                 Traceback (most recent call last)",
      "\u001b[1;32m~\\AppData\\Local\\Temp\\ipykernel_18824\\2441875272.py\u001b[0m in \u001b[0;36m<module>\u001b[1;34m\u001b[0m\n\u001b[0;32m     22\u001b[0m     \u001b[0mvalidation_loss\u001b[0m \u001b[1;33m=\u001b[0m \u001b[1;36m0.0\u001b[0m\u001b[1;33m\u001b[0m\u001b[1;33m\u001b[0m\u001b[0m\n\u001b[0;32m     23\u001b[0m     \u001b[1;32mwith\u001b[0m \u001b[0mtorch\u001b[0m\u001b[1;33m.\u001b[0m\u001b[0mno_grad\u001b[0m\u001b[1;33m(\u001b[0m\u001b[1;33m)\u001b[0m\u001b[1;33m:\u001b[0m\u001b[1;33m\u001b[0m\u001b[1;33m\u001b[0m\u001b[0m\n\u001b[1;32m---> 24\u001b[1;33m         \u001b[1;32mfor\u001b[0m \u001b[0mimages\u001b[0m\u001b[1;33m,\u001b[0m \u001b[0mlabels\u001b[0m \u001b[1;32min\u001b[0m \u001b[0mvalidation_loader\u001b[0m\u001b[1;33m:\u001b[0m\u001b[1;33m\u001b[0m\u001b[1;33m\u001b[0m\u001b[0m\n\u001b[0m\u001b[0;32m     25\u001b[0m             \u001b[0moutput\u001b[0m \u001b[1;33m=\u001b[0m \u001b[0mmodel\u001b[0m\u001b[1;33m(\u001b[0m\u001b[0mimages\u001b[0m\u001b[1;33m)\u001b[0m\u001b[1;33m\u001b[0m\u001b[1;33m\u001b[0m\u001b[0m\n\u001b[0;32m     26\u001b[0m             \u001b[0mvalidation_loss\u001b[0m \u001b[1;33m+=\u001b[0m \u001b[0mloss\u001b[0m\u001b[1;33m.\u001b[0m\u001b[0mitem\u001b[0m\u001b[1;33m(\u001b[0m\u001b[1;33m)\u001b[0m\u001b[1;33m\u001b[0m\u001b[1;33m\u001b[0m\u001b[0m\n",
      "\u001b[1;31mNameError\u001b[0m: name 'validation_loader' is not defined"
     ]
    }
   ],
   "source": [
    "# TODO: Complete this code to implement Early stopping\n",
    "patience =5\n",
    "min_delta =0.01\n",
    "best_loss = None\n",
    "patience_counter = 0\n",
    "\n",
    "# Training loop with early stopping\n",
    "for epoch in range(num_epochs):\n",
    "    model.train()\n",
    "    running_loss = 0.0\n",
    "    for images, labels in train_loader:\n",
    "        # Training pass\n",
    "        optimizer.zero_grad()\n",
    "        outputs = model(images)\n",
    "        loss = criterion(outputs, labels)\n",
    "        loss.backward()\n",
    "        optimizer.step()\n",
    "        running_loss += loss.item()\n",
    "\n",
    "    # evaluation phase\n",
    "    model.eval()\n",
    "    validation_loss = 0.0\n",
    "    with torch.no_grad():\n",
    "        for images, labels in validation_loader:\n",
    "            output = model(images)\n",
    "            validation_loss += loss.item()\n",
    "\n",
    "    # Calculate average losses\n",
    "    training_loss = running_loss / len(train_loader)\n",
    "    validation_loss /= len(validation_loader)\n",
    "\n",
    "    print(f\"Epoch {epoch+1}, Training Loss: {training_loss}, Validation Loss: {validation_loss}\")\n",
    "\n",
    "    # Early stopping logic\n",
    "    if best_loss is None or validation_loss < best_loss - min_delta:\n",
    "        best_loss = validation_loss\n",
    "        patience_counter = 0\n",
    "    else:\n",
    "        patience_counter += 1\n",
    "        if patience_counter >= patience:\n",
    "            print(\"Early stopping triggered!\")\n",
    "            break\n",
    "\n",
    "print(\"Training is finished!\")"
   ]
  },
  {
   "cell_type": "code",
   "execution_count": null,
   "metadata": {
    "id": "BW3uWpcW1RJJ"
   },
   "outputs": [],
   "source": [
    "# TODO: Answer this questions\n",
    "# What does min_delta and patience refer to ?\n",
    "# What is different from the first training ?"
   ]
  },
  {
   "cell_type": "markdown",
   "metadata": {
    "id": "Lg47wh8z1xvj"
   },
   "source": [
    "## Experimenting with Dropout 🌧️\n",
    "\n",
    "Dropout is a regularization technique that temporarily drops units (along with their connections) from the neural network during training. This prevents units from co-adapting too much and helps the model to generalize better to unseen data.\n",
    "\n",
    "### Key Concepts:\n",
    "- **Dropout Rate**: The probability of a neuron being dropped during training. Common rates are 0.2, 0.5, etc.\n",
    "- **Generalization**: Dropout improves the generalization of the model on the test data.\n"
   ]
  },
  {
   "cell_type": "code",
   "execution_count": null,
   "metadata": {
    "id": "DjioUiV31brx"
   },
   "outputs": [],
   "source": [
    "class NetWithDropout(nn.Module):\n",
    "    def __init__(self):\n",
    "        super(NetWithDropout, self).__init__()\n",
    "        # Define layers of the neural network\n",
    "        self.fc1 = nn.Linear(28 * 28, 128)\n",
    "        self.dropout1 = nn.Dropout()  # Dropout layer with 20% probability\n",
    "        self.fc2 = nn.Linear(128, 64)\n",
    "        self.dropout2 = nn.Dropout()  # Dropout layer with 50% probability\n",
    "        self.fc3 = nn.Linear(64, 10)\n",
    "\n",
    "    def forward(self, x):\n",
    "        # Flatten the input tensor\n",
    "        x = x.view(-1, 28 * 28)\n",
    "        # Forward pass with dropout\n",
    "        x = F.relu(self.fc1(x))\n",
    "        x = self.dropout1(x)\n",
    "        x = F.relu(self.fc2(x))\n",
    "        x = self.dropout2(x)\n",
    "        x = self.fc3(x)\n",
    "        return x\n",
    "\n",
    "# Create an instance of the network with dropout\n",
    "model_with_dropout = NetWithDropout()\n",
    "print(model_with_dropout)"
   ]
  },
  {
   "cell_type": "code",
   "execution_count": null,
   "metadata": {
    "id": "VBR_MqON15ch"
   },
   "outputs": [],
   "source": [
    "# TODO: Train the dropout model\n",
    "# What do you notice ?"
   ]
  },
  {
   "cell_type": "markdown",
   "metadata": {
    "id": "TaKBLDTE15Iy"
   },
   "source": [
    "## Submitting Your Project on GitHub 🚀\n",
    "\n",
    "Submitting your project on GitHub not only allows you to showcase your work but also helps in version control and collaboration. Here's how you can do it:\n",
    "\n",
    "### Step 1: Create a New Repository on GitHub\n",
    "1. **Sign in to GitHub**: Go to [GitHub](https://github.com) and sign in with your account.\n",
    "2. **Create a New Repository**: Click on the '+' icon in the top right corner and select 'New repository'.\n",
    "3. **Name Your Repository**: Give your repository a meaningful name, like 'handwritten-digit-recognition'.\n",
    "4. **Initialize with a README**: Check the box 'Initialize this repository with a README'.\n",
    "5. **Create Repository**: Click the 'Create repository' button.\n",
    "\n",
    "### Step 2: Clone the Repository to Your Local Machine\n",
    "1. **Copy the Repository URL**: On your repository page on GitHub, click the 'Code' button and copy the URL.\n",
    "2. **Clone in Terminal**: Open your terminal, navigate to where you want the repository, and run `git clone [URL]`, replacing `[URL]` with the URL you copied.\n",
    "\n",
    "### Step 3: Add Your Project to the Repository\n",
    "1. **Copy Your Notebook**: Place your Jupyter notebook file into the cloned repository folder on your local machine.\n",
    "2. **Add the File**: Run `git add [filename]` in your terminal, replacing `[filename]` with the name of your notebook file.\n",
    "\n",
    "### Step 4: Commit and Push Your Changes\n",
    "1. **Commit Your Changes**: Run `git commit -m \"Add project notebook\"`.\n",
    "2. **Push to GitHub**: Run `git push` to push your changes to the GitHub repository.\n",
    "\n",
    "### Step 5: Create and Edit the README File\n",
    "1. **Edit README.md**: On GitHub, open the README.md file and click the pencil icon to edit.\n",
    "2. **Write Your README**: Include a project title, a brief description, installation instructions, and usage instructions. Optionally, add screenshots or additional sections as needed.\n",
    "3. **Save Changes**: After editing, commit your changes by clicking 'Commit changes' at the bottom.\n",
    "\n",
    "### 📌 TODOs for Submission:\n",
    "- Ensure your Jupyter notebook is well-commented and formatted.\n",
    "- Write a clear, concise README that effectively describes your project.\n",
    "- Double-check that all files have been committed and pushed to your GitHub repository.\n",
    "\n",
    "---\n",
    "\n",
    "Remember, a well-documented GitHub repository not only reflects your technical skills but also your ability to communicate and present your work effectively. Happy coding and best of luck with your project submission! 🌟👩‍💻👨‍💻\n"
   ]
  }
 ],
 "metadata": {
  "colab": {
   "provenance": []
  },
  "kernelspec": {
   "display_name": "Python 3 (ipykernel)",
   "language": "python",
   "name": "python3"
  },
  "language_info": {
   "codemirror_mode": {
    "name": "ipython",
    "version": 3
   },
   "file_extension": ".py",
   "mimetype": "text/x-python",
   "name": "python",
   "nbconvert_exporter": "python",
   "pygments_lexer": "ipython3",
   "version": "3.9.13"
  }
 },
 "nbformat": 4,
 "nbformat_minor": 1
}
